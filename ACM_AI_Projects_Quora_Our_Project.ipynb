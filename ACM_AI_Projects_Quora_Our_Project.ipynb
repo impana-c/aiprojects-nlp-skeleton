{
  "nbformat": 4,
  "nbformat_minor": 0,
  "metadata": {
    "colab": {
      "provenance": [],
      "include_colab_link": true
    },
    "kernelspec": {
      "name": "python3",
      "display_name": "Python 3"
    },
    "language_info": {
      "name": "python"
    }
  },
  "cells": [
    {
      "cell_type": "markdown",
      "metadata": {
        "id": "view-in-github",
        "colab_type": "text"
      },
      "source": [
        "<a href=\"https://colab.research.google.com/github/impana-c/aiprojects-nlp-skeleton/blob/master/ACM_AI_Projects_Quora_Our_Project.ipynb\" target=\"_parent\"><img src=\"https://colab.research.google.com/assets/colab-badge.svg\" alt=\"Open In Colab\"/></a>"
      ]
    },
    {
      "cell_type": "code",
      "execution_count": null,
      "metadata": {
        "colab": {
          "base_uri": "https://localhost:8080/"
        },
        "id": "its5rlMRMXsY",
        "outputId": "e7ce2ab5-285a-4943-a16d-89a72b7b7f21"
      },
      "outputs": [
        {
          "output_type": "stream",
          "name": "stdout",
          "text": [
            "fatal: destination path 'aiprojects-nlp-skeleton' already exists and is not an empty directory.\n"
          ]
        }
      ],
      "source": [
        "!git clone \"https://github.com/impana-c/aiprojects-nlp-skeleton\""
      ]
    },
    {
      "cell_type": "code",
      "source": [
        "%cd \"aiprojects-nlp-skeleton\"\n",
        "#!pwd\n",
        "import constants\n",
        "from data.StartingDataset import StartingDataset\n",
        "from networks.StartingNetwork import StartingNetwork\n",
        "from train_functions.starting_train import starting_train"
      ],
      "metadata": {
        "colab": {
          "base_uri": "https://localhost:8080/"
        },
        "id": "1ykfxw0jNjce",
        "outputId": "52ddf43a-1c9f-403f-f736-ea0b82bb98bb"
      },
      "execution_count": null,
      "outputs": [
        {
          "output_type": "stream",
          "name": "stdout",
          "text": [
            "/content/aiprojects-nlp-skeleton\n"
          ]
        }
      ]
    },
    {
      "cell_type": "code",
      "source": [
        "hyperparameters = {\"epochs\": constants.EPOCHS, \"batch_size\": constants.BATCH_SIZE}\n",
        "\n",
        "# TODO: Add GPU support. This line of code might be helpful.\n",
        "# device = torch.device(\"cuda\" if torch.cuda.is_available() else \"cpu\")\n",
        "\n",
        "print(\"Epochs:\", constants.EPOCHS)\n",
        "print(\"Batch size:\", constants.BATCH_SIZE)\n",
        "\n",
        "# Initalize dataset and model. Then train the model!\n",
        "data_path = \"train2.csv\" #TODO: make sure you have train.csv downloaded in your project! this assumes it is in the project's root directory (ie the same directory as main) but you can change this as you please\n",
        "\n",
        "train_dataset = StartingDataset(data_path)\n",
        "val_dataset = StartingDataset(data_path)\n",
        "print(train_dataset[0][0].shape)\n",
        "\n",
        "\n",
        "model = StartingNetwork(train_dataset[0][0].shape[0])\n",
        "starting_train(\n",
        "    train_dataset=train_dataset,\n",
        "    val_dataset=val_dataset,\n",
        "    model=model,\n",
        "    hyperparameters=hyperparameters,\n",
        "    n_eval=constants.N_EVAL,\n",
        ")"
      ],
      "metadata": {
        "colab": {
          "base_uri": "https://localhost:8080/"
        },
        "id": "Bat1ce36PtHm",
        "outputId": "04de4028-2a7c-4ed9-8055-02963a584ea6"
      },
      "execution_count": null,
      "outputs": [
        {
          "output_type": "stream",
          "name": "stdout",
          "text": [
            "Epochs: 10\n",
            "Batch size: 100\n",
            "(188,)\n",
            "This is a change!\n",
            "Epoch 1 of 10\n"
          ]
        },
        {
          "output_type": "stream",
          "name": "stderr",
          "text": [
            "100%|██████████| 5/5 [00:00<00:00, 29.56it/s]\n"
          ]
        },
        {
          "output_type": "stream",
          "name": "stdout",
          "text": [
            "Average Loss: 0.7286217451095581\n",
            "Average Accuracy: 0.05610101010101011\n",
            "\t \n",
            "Epoch 2 of 10\n"
          ]
        },
        {
          "output_type": "stream",
          "name": "stderr",
          "text": [
            "100%|██████████| 5/5 [00:00<00:00, 47.67it/s]\n"
          ]
        },
        {
          "output_type": "stream",
          "name": "stdout",
          "text": [
            "Average Loss: 0.7002559781074524\n",
            "Average Accuracy: 0.2896969696969697\n",
            "\t \n",
            "Epoch 3 of 10\n"
          ]
        },
        {
          "output_type": "stream",
          "name": "stderr",
          "text": [
            "100%|██████████| 5/5 [00:00<00:00, 42.01it/s]\n"
          ]
        },
        {
          "output_type": "stream",
          "name": "stdout",
          "text": [
            "Average Loss: 0.6721678018569947\n",
            "Average Accuracy: 0.9419191919191918\n",
            "\t \n",
            "Epoch 4 of 10\n"
          ]
        },
        {
          "output_type": "stream",
          "name": "stderr",
          "text": [
            "100%|██████████| 5/5 [00:00<00:00, 45.92it/s]\n"
          ]
        },
        {
          "output_type": "stream",
          "name": "stdout",
          "text": [
            "Average Loss: 0.6427210688591003\n",
            "Average Accuracy: 0.9438989898989899\n",
            "\t \n",
            "Epoch 5 of 10\n"
          ]
        },
        {
          "output_type": "stream",
          "name": "stderr",
          "text": [
            "100%|██████████| 5/5 [00:00<00:00, 42.56it/s]\n"
          ]
        },
        {
          "output_type": "stream",
          "name": "stdout",
          "text": [
            "Average Loss: 0.6092668890953064\n",
            "Average Accuracy: 0.9438181818181818\n",
            "\t \n",
            "Epoch 6 of 10\n"
          ]
        },
        {
          "output_type": "stream",
          "name": "stderr",
          "text": [
            "100%|██████████| 5/5 [00:00<00:00, 46.05it/s]\n"
          ]
        },
        {
          "output_type": "stream",
          "name": "stdout",
          "text": [
            "Average Loss: 0.562457799911499\n",
            "Average Accuracy: 0.943939393939394\n",
            "\t \n",
            "Epoch 7 of 10\n"
          ]
        },
        {
          "output_type": "stream",
          "name": "stderr",
          "text": [
            "100%|██████████| 5/5 [00:00<00:00, 49.59it/s]\n"
          ]
        },
        {
          "output_type": "stream",
          "name": "stdout",
          "text": [
            "Average Loss: 0.489783376455307\n",
            "Average Accuracy: 0.9438585858585858\n",
            "\t \n",
            "Epoch 8 of 10\n"
          ]
        },
        {
          "output_type": "stream",
          "name": "stderr",
          "text": [
            "100%|██████████| 5/5 [00:00<00:00, 46.12it/s]\n"
          ]
        },
        {
          "output_type": "stream",
          "name": "stdout",
          "text": [
            "Average Loss: 0.3997887670993805\n",
            "Average Accuracy: 0.9438989898989899\n",
            "\t \n",
            "Epoch 9 of 10\n"
          ]
        },
        {
          "output_type": "stream",
          "name": "stderr",
          "text": [
            "100%|██████████| 5/5 [00:00<00:00, 47.31it/s]\n"
          ]
        },
        {
          "output_type": "stream",
          "name": "stdout",
          "text": [
            "Average Loss: 0.32510617971420286\n",
            "Average Accuracy: 0.9438989898989899\n",
            "\t \n",
            "Epoch 10 of 10\n"
          ]
        },
        {
          "output_type": "stream",
          "name": "stderr",
          "text": [
            "100%|██████████| 5/5 [00:00<00:00, 48.12it/s]"
          ]
        },
        {
          "output_type": "stream",
          "name": "stdout",
          "text": [
            "Average Loss: 0.26976047158241273\n",
            "Average Accuracy: 0.943939393939394\n",
            "\t \n"
          ]
        },
        {
          "output_type": "stream",
          "name": "stderr",
          "text": [
            "\n"
          ]
        },
        {
          "output_type": "execute_result",
          "data": {
            "text/plain": [
              "{'Training Losses Per Epoch': [[0.7406328320503235,\n",
              "   0.735792875289917,\n",
              "   0.7263913154602051,\n",
              "   0.7225709557533264,\n",
              "   0.7177207469940186],\n",
              "  [0.7135934233665466,\n",
              "   0.7037466168403625,\n",
              "   0.6999838352203369,\n",
              "   0.6943624019622803,\n",
              "   0.6895936131477356],\n",
              "  [0.6833599209785461,\n",
              "   0.6788395643234253,\n",
              "   0.6723335981369019,\n",
              "   0.6655498743057251,\n",
              "   0.6607560515403748],\n",
              "  [0.6577491760253906,\n",
              "   0.6467859745025635,\n",
              "   0.6453742384910583,\n",
              "   0.6336641907691956,\n",
              "   0.6300317645072937],\n",
              "  [0.622181236743927,\n",
              "   0.6153439879417419,\n",
              "   0.6061006784439087,\n",
              "   0.6018940210342407,\n",
              "   0.6008145213127136],\n",
              "  [0.5911813974380493,\n",
              "   0.5854992866516113,\n",
              "   0.5522039532661438,\n",
              "   0.5515205264091492,\n",
              "   0.5318838357925415],\n",
              "  [0.5440963506698608,\n",
              "   0.500040590763092,\n",
              "   0.4829622209072113,\n",
              "   0.45795977115631104,\n",
              "   0.4638579487800598],\n",
              "  [0.4616551101207733,\n",
              "   0.4374963045120239,\n",
              "   0.3658201992511749,\n",
              "   0.3733164966106415,\n",
              "   0.3606557250022888],\n",
              "  [0.3230639696121216,\n",
              "   0.3080366253852844,\n",
              "   0.3717860281467438,\n",
              "   0.33435431122779846,\n",
              "   0.28828996419906616],\n",
              "  [0.28052204847335815,\n",
              "   0.26214444637298584,\n",
              "   0.2963351905345917,\n",
              "   0.2999233901500702,\n",
              "   0.20987728238105774]],\n",
              " 'ValidationInformation': [],\n",
              " 'Accuracies': [[0.05, 0.05, 0.07, 0.06, 0.050505050505050504],\n",
              "  [0.02, 0.11, 0.11, 0.36, 0.8484848484848485],\n",
              "  [0.93, 0.93, 0.94, 0.95, 0.9595959595959596],\n",
              "  [0.92, 0.96, 0.93, 0.96, 0.9494949494949495],\n",
              "  [0.95, 0.96, 0.95, 0.95, 0.9090909090909091],\n",
              "  [0.92, 0.9, 0.98, 0.95, 0.9696969696969697],\n",
              "  [0.9, 0.96, 0.95, 0.98, 0.9292929292929293],\n",
              "  [0.91, 0.92, 0.98, 0.96, 0.9494949494949495],\n",
              "  [0.97, 0.97, 0.9, 0.93, 0.9494949494949495],\n",
              "  [0.95, 0.95, 0.93, 0.92, 0.9696969696969697]],\n",
              " 'Average Loss for Each Epoch': [0.7286217451095581,\n",
              "  0.7002559781074524,\n",
              "  0.6721678018569947,\n",
              "  0.6427210688591003,\n",
              "  0.6092668890953064,\n",
              "  0.562457799911499,\n",
              "  0.489783376455307,\n",
              "  0.3997887670993805,\n",
              "  0.32510617971420286,\n",
              "  0.26976047158241273]}"
            ]
          },
          "metadata": {},
          "execution_count": 3
        }
      ]
    }
  ]
}